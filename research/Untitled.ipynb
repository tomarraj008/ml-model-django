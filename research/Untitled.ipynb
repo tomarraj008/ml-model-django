{
 "cells": [
  {
   "cell_type": "code",
   "execution_count": 2,
   "metadata": {},
   "outputs": [],
   "source": [
    "import json # will be needed for saving preprocessing details\n",
    "import numpy as np # for data manipulation\n",
    "import pandas as pd #for data manipulation\n",
    "from sklearn.model_selection import train_test_split # will be used for data split\n",
    "from sklearn.preprocessing import LabelEncoder #for preprocessing\n",
    "from sklearn.ensemble import RandomForestClassifier #for training algo\n",
    "from sklearn.ensemble import ExtraTreesClassifier # for training algo\n",
    "import joblib # for saving algo and preprocessing objects\n"
   ]
  },
  {
   "cell_type": "code",
   "execution_count": 14,
   "metadata": {},
   "outputs": [
    {
     "name": "stdout",
     "output_type": "stream",
     "text": [
      "   age         workclass  fnlwgt  education  education-num  \\\n",
      "0   39         State-gov   77516  Bachelors             13   \n",
      "1   50  Self-emp-not-inc   83311  Bachelors             13   \n",
      "2   38           Private  215646    HS-grad              9   \n",
      "3   53           Private  234721       11th              7   \n",
      "4   28           Private  338409  Bachelors             13   \n",
      "\n",
      "       marital-status         occupation   relationship   race     sex  \\\n",
      "0       Never-married       Adm-clerical  Not-in-family  White    Male   \n",
      "1  Married-civ-spouse    Exec-managerial        Husband  White    Male   \n",
      "2            Divorced  Handlers-cleaners  Not-in-family  White    Male   \n",
      "3  Married-civ-spouse  Handlers-cleaners        Husband  Black    Male   \n",
      "4  Married-civ-spouse     Prof-specialty           Wife  Black  Female   \n",
      "\n",
      "   capital-gain  capital-loss  hours-per-week native-country income  \n",
      "0          2174             0              40  United-States  <=50K  \n",
      "1             0             0              13  United-States  <=50K  \n",
      "2             0             0              40  United-States  <=50K  \n",
      "3             0             0              40  United-States  <=50K  \n",
      "4             0             0              40           Cuba  <=50K  \n"
     ]
    },
    {
     "data": {
      "text/plain": [
       "32561"
      ]
     },
     "execution_count": 14,
     "metadata": {},
     "output_type": "execute_result"
    }
   ],
   "source": [
    "#load dataset \n",
    "\n",
    "df = pd.read_csv('/home/titan/Desktop/misc/ml-model-django/dataset/data.csv' , skipinitialspace=True)\n",
    "\n",
    "x_cols = [c for c in df.columns if c != 'income']\n",
    "\n",
    "\n",
    "\n",
    "\n",
    "# set input matrix and target column\n",
    "\n",
    "X = df[x_cols] # independent variable \n",
    "\n",
    "y = df['income'] #dependent variable  \n",
    "\n",
    "#show first rows of data\n",
    "\n",
    "print(df.head())\n",
    "\n",
    "len(df.columns)\n",
    "len(df)"
   ]
  },
  {
   "cell_type": "code",
   "execution_count": 15,
   "metadata": {},
   "outputs": [],
   "source": [
    "#data split train / test\n",
    "\n",
    "X_train , X_test , y_train , y_test = train_test_split(X , y , test_size=0.3 , random_state=1234) \n"
   ]
  },
  {
   "cell_type": "code",
   "execution_count": 17,
   "metadata": {},
   "outputs": [
    {
     "name": "stdout",
     "output_type": "stream",
     "text": [
      "<bound method DataFrame.notna of        age         workclass  fnlwgt   education  education-num  \\\n",
      "0       39         State-gov   77516   Bachelors             13   \n",
      "1       50  Self-emp-not-inc   83311   Bachelors             13   \n",
      "2       38           Private  215646     HS-grad              9   \n",
      "3       53           Private  234721        11th              7   \n",
      "4       28           Private  338409   Bachelors             13   \n",
      "...    ...               ...     ...         ...            ...   \n",
      "32556   27           Private  257302  Assoc-acdm             12   \n",
      "32557   40           Private  154374     HS-grad              9   \n",
      "32558   58           Private  151910     HS-grad              9   \n",
      "32559   22           Private  201490     HS-grad              9   \n",
      "32560   52      Self-emp-inc  287927     HS-grad              9   \n",
      "\n",
      "           marital-status         occupation   relationship   race     sex  \\\n",
      "0           Never-married       Adm-clerical  Not-in-family  White    Male   \n",
      "1      Married-civ-spouse    Exec-managerial        Husband  White    Male   \n",
      "2                Divorced  Handlers-cleaners  Not-in-family  White    Male   \n",
      "3      Married-civ-spouse  Handlers-cleaners        Husband  Black    Male   \n",
      "4      Married-civ-spouse     Prof-specialty           Wife  Black  Female   \n",
      "...                   ...                ...            ...    ...     ...   \n",
      "32556  Married-civ-spouse       Tech-support           Wife  White  Female   \n",
      "32557  Married-civ-spouse  Machine-op-inspct        Husband  White    Male   \n",
      "32558             Widowed       Adm-clerical      Unmarried  White  Female   \n",
      "32559       Never-married       Adm-clerical      Own-child  White    Male   \n",
      "32560  Married-civ-spouse    Exec-managerial           Wife  White  Female   \n",
      "\n",
      "       capital-gain  capital-loss  hours-per-week native-country income  \n",
      "0              2174             0              40  United-States  <=50K  \n",
      "1                 0             0              13  United-States  <=50K  \n",
      "2                 0             0              40  United-States  <=50K  \n",
      "3                 0             0              40  United-States  <=50K  \n",
      "4                 0             0              40           Cuba  <=50K  \n",
      "...             ...           ...             ...            ...    ...  \n",
      "32556             0             0              38  United-States  <=50K  \n",
      "32557             0             0              40  United-States   >50K  \n",
      "32558             0             0              40  United-States  <=50K  \n",
      "32559             0             0              20  United-States  <=50K  \n",
      "32560         15024             0              40  United-States   >50K  \n",
      "\n",
      "[32561 rows x 15 columns]>\n"
     ]
    }
   ],
   "source": [
    "print(df.notna)"
   ]
  },
  {
   "cell_type": "code",
   "execution_count": 23,
   "metadata": {},
   "outputs": [
    {
     "name": "stdout",
     "output_type": "stream",
     "text": [
      "       age  workclass  fnlwgt     education  education-num  \\\n",
      "29700   37    Private   34146       HS-grad              9   \n",
      "1529    37    Private   26898       HS-grad              9   \n",
      "27477   26    Private  190762  Some-college             10   \n",
      "31950   35    Private  189092     Bachelors             13   \n",
      "4732    23    Private  260019       7th-8th              4   \n",
      "...    ...        ...     ...           ...            ...   \n",
      "27852   24    Private  223367          11th              7   \n",
      "23605   20    Private  127185  Some-college             10   \n",
      "1318    41  State-gov  144928     Bachelors             13   \n",
      "25299   40    Private  199303       HS-grad              9   \n",
      "27439   38    Private   38312     Bachelors             13   \n",
      "\n",
      "           marital-status       occupation relationship   race     sex  \\\n",
      "29700  Married-civ-spouse     Craft-repair      Husband  White    Male   \n",
      "1529             Divorced  Exec-managerial    Unmarried  White  Female   \n",
      "27477  Married-civ-spouse            Sales      Husband  White    Male   \n",
      "31950  Married-civ-spouse  Exec-managerial      Husband  White    Male   \n",
      "4732        Never-married  Farming-fishing    Unmarried  Other    Male   \n",
      "...                   ...              ...          ...    ...     ...   \n",
      "27852       Never-married     Craft-repair    Unmarried  White    Male   \n",
      "23605       Never-married   Prof-specialty    Own-child  White  Female   \n",
      "1318   Married-civ-spouse   Prof-specialty      Husband  White    Male   \n",
      "25299  Married-civ-spouse     Craft-repair      Husband  White    Male   \n",
      "27439  Married-civ-spouse  Exec-managerial      Husband  White    Male   \n",
      "\n",
      "       capital-gain  capital-loss  hours-per-week native-country  \n",
      "29700             0             0              68  United-States  \n",
      "1529              0             0              12  United-States  \n",
      "27477             0             0              18  United-States  \n",
      "31950             0             0              40  United-States  \n",
      "4732              0             0              36         Mexico  \n",
      "...             ...           ...             ...            ...  \n",
      "27852             0             0              40  United-States  \n",
      "23605             0             0              15  United-States  \n",
      "1318              0             0              40  United-States  \n",
      "25299             0             0              40  United-States  \n",
      "27439         15024             0              65  United-States  \n",
      "\n",
      "[22792 rows x 14 columns]\n"
     ]
    }
   ],
   "source": [
    "#fill missing values \n",
    "\n",
    "#use dictionary for first training data\n",
    "train_mode =  dict(X_train.mode().iloc[0])\n",
    "\n",
    "X_train = X_train.fillna(train_mode)\n",
    "\n",
    "#print(train_mode)\n",
    "print(X_train)"
   ]
  },
  {
   "cell_type": "code",
   "execution_count": 28,
   "metadata": {},
   "outputs": [],
   "source": [
    "#convert categoricals to numbers \n",
    "\n",
    "encoders = {}\n",
    "\n",
    "#use Label Encoder scikit learn\n",
    "\n",
    "for columns in ['workclass', 'education', 'marital-status',\n",
    "               'occupation', 'relationship', 'race', 'sex', 'native-country']:\n",
    "    categorical_convert = LabelEncoder()\n",
    "    \n",
    "    X_train[columns] = categorical_convert.fit_transform(X_train[columns])\n",
    "    \n",
    "    encoders[columns]  = categorical_convert"
   ]
  },
  {
   "cell_type": "code",
   "execution_count": 29,
   "metadata": {},
   "outputs": [],
   "source": [
    "#random forest alogorithm \n",
    "\n",
    "rf = RandomForestClassifier(n_estimators=100)\n",
    "\n",
    "rf = rf.fit(X_train , y_train)"
   ]
  },
  {
   "cell_type": "code",
   "execution_count": 30,
   "metadata": {},
   "outputs": [],
   "source": [
    "#train extra tree algorithm\n",
    "\n",
    "et = ExtraTreesClassifier(n_estimators=100)\n",
    "\n",
    "et = et.fit(X_train , y_train)"
   ]
  },
  {
   "cell_type": "code",
   "execution_count": 31,
   "metadata": {},
   "outputs": [
    {
     "data": {
      "text/plain": [
       "['./extra_trees.joblib']"
      ]
     },
     "execution_count": 31,
     "metadata": {},
     "output_type": "execute_result"
    }
   ],
   "source": [
    "#save preprocessing objects and Rf algorithm\n",
    "\n",
    "joblib.dump(train_mode, \"./train_mode.joblib\" , compress=True)\n",
    "joblib.dump(encoders, \"./encoders.joblib\", compress=True)\n",
    "joblib.dump(rf , \"./random_forest.joblib\", compress=True)\n",
    "joblib.dump(et, \"./extra_trees.joblib\", compress=True)\n"
   ]
  },
  {
   "cell_type": "code",
   "execution_count": null,
   "metadata": {},
   "outputs": [],
   "source": []
  }
 ],
 "metadata": {
  "kernelspec": {
   "display_name": "Python 3",
   "language": "python",
   "name": "python3"
  },
  "language_info": {
   "codemirror_mode": {
    "name": "ipython",
    "version": 3
   },
   "file_extension": ".py",
   "mimetype": "text/x-python",
   "name": "python",
   "nbconvert_exporter": "python",
   "pygments_lexer": "ipython3",
   "version": "3.7.6"
  }
 },
 "nbformat": 4,
 "nbformat_minor": 4
}
